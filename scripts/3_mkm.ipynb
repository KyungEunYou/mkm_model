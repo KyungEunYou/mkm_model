{
 "cells": [
  {
   "cell_type": "markdown",
   "id": "e859ff82-609e-48f4-957b-54282660ff89",
   "metadata": {},
   "source": [
    "# **Microkinetic modeling**"
   ]
  },
  {
   "cell_type": "code",
   "execution_count": 1,
   "id": "63d4037d-673e-4288-812c-68659ad2e5c1",
   "metadata": {},
   "outputs": [],
   "source": [
    "import mkm\n",
    "from mkm.model import MKM\n",
    "from mkm.reaction_network import ReactionNetworkGenerator\n",
    "import numpy as np\n",
    "import yaml\n",
    "import json"
   ]
  },
  {
   "cell_type": "markdown",
   "id": "a69136fe-e83c-47ca-ad25-253e9425b514",
   "metadata": {},
   "source": [
    "* Load config and json (bag_of_energies.json) file"
   ]
  },
  {
   "cell_type": "code",
   "execution_count": 2,
   "id": "b802ffee-dd21-43d8-aae5-481634002718",
   "metadata": {},
   "outputs": [],
   "source": [
    "# load config file including elementary reaction steps information\n",
    "yaml_file = f\"{mkm.EXAMPLE}/config.yml\"\n",
    "with open(yaml_file) as f:\n",
    "    config = yaml.safe_load(f)\n",
    "\n",
    "# load json file of \"bag of energies\" which you can generate by mkm.bag_of_energies.BagofEnergiesGen\n",
    "json_file = f\"{mkm.EXAMPLE}/bag_of_energies.json\"\n",
    "with open(json_file) as f:\n",
    "    bag_of_energies = json.load(f)"
   ]
  },
  {
   "cell_type": "markdown",
   "id": "1b2d482f-757d-4e23-925a-06ec07d70e91",
   "metadata": {},
   "source": [
    "* **let's load reaction network using ReactionNetworkGenerator again**"
   ]
  },
  {
   "cell_type": "code",
   "execution_count": 3,
   "id": "48817816-d3cf-4079-bccd-7becedd15880",
   "metadata": {},
   "outputs": [],
   "source": [
    "rn = ReactionNetworkGenerator(\n",
    "    config.get(\"rxn_eqn\", {}), \n",
    "    bag_of_energies,\n",
    "    config[\"adsorption\"],\n",
    "    )\n",
    "rxn_network = rn.convert_all()"
   ]
  },
  {
   "cell_type": "markdown",
   "id": "e42009c2-9d57-4dcb-ac86-5d6c948531b6",
   "metadata": {},
   "source": [
    "* ** Now, let's load microkinetic model.** \\\n",
    "  **for the model, we need reaction network and config, we've already loaded, as well as temperature that we are interested in and species which are in config[\"int_ads_site\"]** "
   ]
  },
  {
   "cell_type": "code",
   "execution_count": 4,
   "id": "be455517-a85b-44ea-8cf5-10ed22ea6a18",
   "metadata": {},
   "outputs": [],
   "source": [
    "temperature = 573.15"
   ]
  },
  {
   "cell_type": "markdown",
   "id": "73498306-d0b9-488e-b48b-70fe5f0ad5c2",
   "metadata": {},
   "source": [
    "* **Since config[\"int_ads_site\"] does not include free site, let's add [\"*\"]**"
   ]
  },
  {
   "cell_type": "code",
   "execution_count": 5,
   "id": "bd6ef3dd-8503-4e25-bd32-3a64fb2b89d8",
   "metadata": {},
   "outputs": [
    {
     "data": {
      "text/plain": [
       "['*',\n",
       " 'I000*',\n",
       " 'I001*',\n",
       " 'I002*',\n",
       " 'I003*',\n",
       " 'I004*',\n",
       " 'I006*',\n",
       " 'I008*',\n",
       " 'I010*',\n",
       " 'I011*',\n",
       " 'I012*',\n",
       " 'I014*',\n",
       " 'I015*']"
      ]
     },
     "execution_count": 5,
     "metadata": {},
     "output_type": "execute_result"
    }
   ],
   "source": [
    "y_list = [\"*\"]\n",
    "y_list += list(config[\"int_ads_site\"].keys())\n",
    "y_list"
   ]
  },
  {
   "cell_type": "code",
   "execution_count": 6,
   "id": "cec5b310-2e18-45cd-b4ba-adebe407fa03",
   "metadata": {},
   "outputs": [
    {
     "data": {
      "text/plain": [
       "<mkm.model.MKM at 0x7f465bb59c40>"
      ]
     },
     "execution_count": 6,
     "metadata": {},
     "output_type": "execute_result"
    }
   ],
   "source": [
    "mkm = MKM(rxn_network, config, y_list, temperature)\n",
    "mkm"
   ]
  },
  {
   "cell_type": "markdown",
   "id": "557cae99-cc7b-4b63-a6cf-02d15ef18575",
   "metadata": {},
   "source": [
    "* **Finally, let's compute the MKM by ODE solver and to get coverages and rates information** \\\n",
    "  **for this you need initial coverages(y0) in order of y_list and a sequence of time points (t) for which to solve for y**"
   ]
  },
  {
   "cell_type": "code",
   "execution_count": 7,
   "id": "4efe640a-e7f4-4bc3-a503-462317c87e9f",
   "metadata": {},
   "outputs": [
    {
     "data": {
      "text/plain": [
       "array([1., 0., 0., 0., 0., 0., 0., 0., 0., 0., 0., 0., 0.])"
      ]
     },
     "execution_count": 7,
     "metadata": {},
     "output_type": "execute_result"
    }
   ],
   "source": [
    "t = np.linspace(0, 20, 50)\n",
    "\n",
    "y_list = [\"*\",\"I000*\",\"I001*\",\"I002*\",\"I003*\",\"I004*\",\"I006*\",\"I008*\",\"I010*\", \"I011*\",\"I012*\",\"I014*\",\"I015*\"]\n",
    "y0 = np.zeros(len(y_list))\n",
    "y0[y_list.index(\"*\")] = 1\n",
    "y0"
   ]
  },
  {
   "cell_type": "code",
   "execution_count": 8,
   "id": "981fcb6a-d7bc-4863-b65e-b539da30b7cd",
   "metadata": {},
   "outputs": [],
   "source": [
    "cov, result_rates = mkm.compute(y0, t)"
   ]
  },
  {
   "cell_type": "code",
   "execution_count": 9,
   "id": "b0722048-9a2f-4eef-9342-eacf2bd1acbf",
   "metadata": {},
   "outputs": [
    {
     "data": {
      "text/plain": [
       "array([3.32785787e-01, 2.52508594e-02, 1.30065807e-02, 1.42823970e-05,\n",
       "       8.62776045e-04, 5.59732831e-09, 6.43657075e-09, 3.68649907e-13,\n",
       "       6.27658346e-01, 4.17383904e-04, 3.97297651e-06, 3.18920299e-10,\n",
       "       2.09300986e-13])"
      ]
     },
     "execution_count": 9,
     "metadata": {},
     "output_type": "execute_result"
    }
   ],
   "source": [
    "cov[-1, :]"
   ]
  },
  {
   "cell_type": "code",
   "execution_count": 10,
   "id": "98388a09-19ca-4c74-bff5-bc5fdd922860",
   "metadata": {},
   "outputs": [
    {
     "data": {
      "text/plain": [
       "{'r1': {'r_for': 134544062.84914076,\n",
       "  'r_rev': 134544062.9309155,\n",
       "  'rate': -0.0817747414112091},\n",
       " 'r2': {'r_for': 2057754.8368971946,\n",
       "  'r_rev': 2057754.7549820836,\n",
       "  'rate': 0.08191511104814708},\n",
       " 'r3': {'r_for': 0.0,\n",
       "  'r_rev': 0.0398780722850187,\n",
       "  'rate': -0.0398780722850187},\n",
       " 'r4': {'r_for': 0.0,\n",
       "  'r_rev': 0.041825757761056986,\n",
       "  'rate': -0.041825757761056986},\n",
       " 'r5': {'r_for': 0.0,\n",
       "  'r_rev': 9.245506162581739e-05,\n",
       "  'rate': -9.245506162581739e-05},\n",
       " 'r6': {'r_for': 0.0,\n",
       "  'r_rev': 9.707983098148585e-05,\n",
       "  'rate': -9.707983098148585e-05},\n",
       " 'r7': {'r_for': 0.0,\n",
       "  'r_rev': 0.00014057230534229357,\n",
       "  'rate': -0.00014057230534229357},\n",
       " 'r8': {'r_for': 1696766.2418059192,\n",
       "  'r_rev': 1696766.3234325768,\n",
       "  'rate': -0.08162665762938559},\n",
       " 'r9': {'r_for': 1033.1871574889205,\n",
       "  'r_rev': 1033.1469227731036,\n",
       "  'rate': 0.040234715816950484},\n",
       " 'r10': {'r_for': 3.6853439384332307,\n",
       "  'r_rev': 3.6852002452497614,\n",
       "  'rate': 0.0001436931834692956},\n",
       " 'r11': {'r_for': 0.846383467556583,\n",
       "  'r_rev': 0.8048509514073842,\n",
       "  'rate': 0.04153251614919884},\n",
       " 'r12': {'r_for': 8.530679510062026e-05,\n",
       "  'r_rev': 8.112073844430945e-05,\n",
       "  'rate': 4.186056656310804e-06},\n",
       " 'r13': {'r_for': 1.982712357382775,\n",
       "  'r_rev': 1.9423339483814483,\n",
       "  'rate': 0.04037840900132661},\n",
       " 'r14': {'r_for': 0.01659685131525089,\n",
       "  'r_rev': 0.017097188031560028,\n",
       "  'rate': -0.0005003367163091375},\n",
       " 'r15': {'r_for': 0.09040998834165156,\n",
       "  'r_rev': 0.048584230549287545,\n",
       "  'rate': 0.04182575779236402},\n",
       " 'r16': {'r_for': 9.251865028592946e-05,\n",
       "  'r_rev': 6.35886601012991e-08,\n",
       "  'rate': 9.245506162582816e-05},\n",
       " 'r17': {'r_for': 0.00011882606816189658,\n",
       "  'r_rev': 4.281435211060136e-19,\n",
       "  'rate': 0.00011882606816189615},\n",
       " 'r18': {'r_for': 0.00012615446663734157,\n",
       "  'r_rev': 2.131890863362941e-08,\n",
       "  'rate': 0.00012613314772870794},\n",
       " 'r19': {'r_for': 1.4473202767274283e-05,\n",
       "  'r_rev': 3.337026808439059e-08,\n",
       "  'rate': 1.4439832499189892e-05},\n",
       " 'r20': {'r_for': 7.307821726074921e-06,\n",
       "  'r_rev': 7.421592626646723e-10,\n",
       "  'rate': 7.307079566812256e-06},\n",
       " 'r21': {'r_for': 1.4439265087061123e-05,\n",
       "  'r_rev': 1.0747848719861995e-10,\n",
       "  'rate': 1.4439157608573924e-05}}"
      ]
     },
     "execution_count": 10,
     "metadata": {},
     "output_type": "execute_result"
    }
   ],
   "source": [
    "result_rates"
   ]
  },
  {
   "cell_type": "markdown",
   "id": "24d03bb0-9fa5-4e32-bb8e-0dd76e64d34f",
   "metadata": {},
   "source": [
    "* **you can plot the coverages by time**"
   ]
  },
  {
   "cell_type": "code",
   "execution_count": 11,
   "id": "91fb2523-39c6-42c5-ad09-6d291307a549",
   "metadata": {},
   "outputs": [
    {
     "data": {
      "image/png": "[encoded data removed]",
      "text/plain": [
       "<Figure size 640x480 with 1 Axes>"
      ]
     },
     "metadata": {},
     "output_type": "display_data"
    }
   ],
   "source": [
    "mkm.plot_coverages()"
   ]
  },
  {
   "cell_type": "markdown",
   "id": "c018f40b-0bb7-4071-9b3e-fe92d55caecd",
   "metadata": {},
   "source": [
    "* **If the model worked successfully, the sum of all coverages should be 1**"
   ]
  },
  {
   "cell_type": "code",
   "execution_count": 12,
   "id": "e22a6363-daaf-474b-9183-97f152bb5bf5",
   "metadata": {},
   "outputs": [
    {
     "name": "stdout",
     "output_type": "stream",
     "text": [
      "total_balance: 1.0000000000005576\n"
     ]
    }
   ],
   "source": [
    "y = []\n",
    "for i in range(len(y0)):\n",
    "    y.append((cov[:, i][-1]))\n",
    "\n",
    "y_sum = 0\n",
    "for i in y:\n",
    "    y_sum += i\n",
    "print(f\"total_balance: {y_sum}\")"
   ]
  }
 ],
 "metadata": {
  "kernelspec": {
   "display_name": "Python 3 (ipykernel)",
   "language": "python",
   "name": "python3"
  },
  "language_info": {
   "codemirror_mode": {
    "name": "ipython",
    "version": 3
   },
   "file_extension": ".py",
   "mimetype": "text/x-python",
   "name": "python",
   "nbconvert_exporter": "python",
   "pygments_lexer": "ipython3",
   "version": "3.9.16"
  }
 },
 "nbformat": 4,
 "nbformat_minor": 5
}
