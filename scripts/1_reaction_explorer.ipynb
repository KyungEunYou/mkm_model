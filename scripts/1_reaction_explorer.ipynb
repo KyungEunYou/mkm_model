{
 "cells": [
  {
   "cell_type": "markdown",
   "id": "e859ff82-609e-48f4-957b-54282660ff89",
   "metadata": {},
   "source": [
    "# **Reaction Explorer**\n",
    "* **This is an example of reaction explorer. Script might be different according to how you structured your data directories**"
   ]
  },
  {
   "cell_type": "code",
   "execution_count": 1,
   "id": "730b2ceb-6533-425d-9340-e476951d1772",
   "metadata": {},
   "outputs": [
    {
     "name": "stderr",
     "output_type": "stream",
     "text": [
      "/home/key2tw/.local/bin/miniconda3/envs/project-with-ocpmodel/lib/python3.9/site-packages/tqdm/auto.py:21: TqdmWarning: IProgress not found. Please update jupyter and ipywidgets. See https://ipywidgets.readthedocs.io/en/stable/user_install.html\n",
      "  from .autonotebook import tqdm as notebook_tqdm\n"
     ]
    }
   ],
   "source": [
    "from thermochemistry import Thermochemistry\n",
    "from mkm.bag_of_energies import BagofEnergiesGen\n",
    "import json\n",
    "from pathlib import Path"
   ]
  },
  {
   "cell_type": "markdown",
   "id": "6af97985-7182-4fa7-b2e4-90764423dd4f",
   "metadata": {},
   "source": [
    "* **Set vasp file located directory**"
   ]
  },
  {
   "cell_type": "code",
   "execution_count": 2,
   "id": "1e25249f-1007-459b-804d-372d5cc3659b",
   "metadata": {},
   "outputs": [],
   "source": [
    "species_src = Path().cwd().parent.joinpath('example/species')\n",
    "transitionstate_src = Path().cwd().parent.joinpath('example/transition_states')"
   ]
  },
  {
   "cell_type": "code",
   "execution_count": 3,
   "id": "ca13a680-e95d-4b54-9717-2b4d18075416",
   "metadata": {},
   "outputs": [],
   "source": [
    "beg = BagofEnergiesGen(species_src, transitionstate_src, temperature=[573.15])\n",
    "bag_of_energies = beg.explorer()"
   ]
  },
  {
   "cell_type": "markdown",
   "id": "522f37bf-5f01-485f-a1c6-b24d344792b5",
   "metadata": {},
   "source": [
    "* **Save bag of energy information as json or insert to mongoDB for your convenience**\\\n",
    "In this example, we are going to convert the data to json file "
   ]
  },
  {
   "cell_type": "code",
   "execution_count": 4,
   "id": "e3afc1dc-dd9b-424b-b496-52798623c362",
   "metadata": {},
   "outputs": [],
   "source": [
    "json_dir = Path().cwd().parent.joinpath('example/info_bag.json')\n",
    "\n",
    "with open(json_dir, 'w') as f:\n",
    "    json.dump(bag_of_energies, f, indent=4)"
   ]
  },
  {
   "cell_type": "code",
   "execution_count": null,
   "id": "ce418464-b9a8-4303-b30b-34fe5be67851",
   "metadata": {},
   "outputs": [],
   "source": []
  }
 ],
 "metadata": {
  "kernelspec": {
   "display_name": "Python 3 (ipykernel)",
   "language": "python",
   "name": "python3"
  },
  "language_info": {
   "codemirror_mode": {
    "name": "ipython",
    "version": 3
   },
   "file_extension": ".py",
   "mimetype": "text/x-python",
   "name": "python",
   "nbconvert_exporter": "python",
   "pygments_lexer": "ipython3",
   "version": "3.9.16"
  }
 },
 "nbformat": 4,
 "nbformat_minor": 5
}
