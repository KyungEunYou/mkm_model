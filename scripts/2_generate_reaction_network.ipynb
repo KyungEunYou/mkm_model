{
 "cells": [
  {
   "cell_type": "markdown",
   "id": "e859ff82-609e-48f4-957b-54282660ff89",
   "metadata": {},
   "source": [
    "# **Generate reaction network**\n",
    "* **All the energy and parameters for microkinetic modeling is save as ElementaryReactionStep object**"
   ]
  },
  {
   "cell_type": "code",
   "execution_count": 1,
   "id": "63d4037d-673e-4288-812c-68659ad2e5c1",
   "metadata": {},
   "outputs": [],
   "source": [
    "import mkm\n",
    "from mkm.reaction_network import ReactionNetworkGenerator\n",
    "import yaml\n",
    "import json\n",
    "\n",
    "# load config file including elementary reaction steps information\n",
    "yaml_file = f\"{mkm.EXAMPLE}/config.yml\"\n",
    "with open(yaml_file) as f:\n",
    "    config = yaml.safe_load(f)\n",
    "\n",
    "# load json file of \"bag of energies\" which you can generate by mkm.bag_of_energies.BagofEnergiesGen\n",
    "json_file = f\"{mkm.EXAMPLE}/bag_of_energies.json\"\n",
    "with open(json_file) as f:\n",
    "    bag_of_energies = json.load(f)"
   ]
  },
  {
   "cell_type": "markdown",
   "id": "1b2d482f-757d-4e23-925a-06ec07d70e91",
   "metadata": {},
   "source": [
    "* **Now Let's generate reaction network**"
   ]
  },
  {
   "cell_type": "code",
   "execution_count": 2,
   "id": "48817816-d3cf-4079-bccd-7becedd15880",
   "metadata": {},
   "outputs": [],
   "source": [
    "# generate reaction network\n",
    "rn = ReactionNetworkGenerator(\n",
    "    config.get(\"rxn_eqn\", {}), \n",
    "    bag_of_energies,\n",
    "    config[\"adsorption\"],\n",
    "    )\n",
    "rxn_network = rn.convert_all()"
   ]
  },
  {
   "cell_type": "markdown",
   "id": "cfcb3aac-154a-4fe6-bde1-12a259a36d62",
   "metadata": {},
   "source": [
    "* **reaction network is returned as dictionary in {reaction label: ElementaryReactionStep object}** \\\n",
    "**label of reaction and species follows the way you set in config.yml**"
   ]
  },
  {
   "cell_type": "code",
   "execution_count": 3,
   "id": "3d746bb7-8015-464a-8de6-134e347db349",
   "metadata": {},
   "outputs": [
    {
     "data": {
      "text/plain": [
       "{'r1': <mkm.elementary_reaction_step.ElementaryReactionStep at 0x7fc34c537670>,\n",
       " 'r2': <mkm.elementary_reaction_step.ElementaryReactionStep at 0x7fc34c537910>,\n",
       " 'r3': <mkm.elementary_reaction_step.ElementaryReactionStep at 0x7fc34c537460>,\n",
       " 'r4': <mkm.elementary_reaction_step.ElementaryReactionStep at 0x7fc34c537730>,\n",
       " 'r5': <mkm.elementary_reaction_step.ElementaryReactionStep at 0x7fc34c5377f0>,\n",
       " 'r6': <mkm.elementary_reaction_step.ElementaryReactionStep at 0x7fc34c537550>,\n",
       " 'r7': <mkm.elementary_reaction_step.ElementaryReactionStep at 0x7fc34c5372b0>,\n",
       " 'r8': <mkm.elementary_reaction_step.ElementaryReactionStep at 0x7fc34c537370>,\n",
       " 'r9': <mkm.elementary_reaction_step.ElementaryReactionStep at 0x7fc34c537340>,\n",
       " 'r10': <mkm.elementary_reaction_step.ElementaryReactionStep at 0x7fc34c537130>,\n",
       " 'r11': <mkm.elementary_reaction_step.ElementaryReactionStep at 0x7fc34c5370a0>,\n",
       " 'r12': <mkm.elementary_reaction_step.ElementaryReactionStep at 0x7fc34c5376a0>,\n",
       " 'r13': <mkm.elementary_reaction_step.ElementaryReactionStep at 0x7fc34c5375e0>,\n",
       " 'r14': <mkm.elementary_reaction_step.ElementaryReactionStep at 0x7fc34c537880>,\n",
       " 'r15': <mkm.elementary_reaction_step.ElementaryReactionStep at 0x7fc34c537850>,\n",
       " 'r16': <mkm.elementary_reaction_step.ElementaryReactionStep at 0x7fc34c5371c0>,\n",
       " 'r17': <mkm.elementary_reaction_step.ElementaryReactionStep at 0x7fc34c5379d0>,\n",
       " 'r18': <mkm.elementary_reaction_step.ElementaryReactionStep at 0x7fc34c537a00>,\n",
       " 'r19': <mkm.elementary_reaction_step.ElementaryReactionStep at 0x7fc34c537760>,\n",
       " 'r20': <mkm.elementary_reaction_step.ElementaryReactionStep at 0x7fc34c537820>,\n",
       " 'r21': <mkm.elementary_reaction_step.ElementaryReactionStep at 0x7fc34c537a90>}"
      ]
     },
     "execution_count": 3,
     "metadata": {},
     "output_type": "execute_result"
    }
   ],
   "source": [
    "rxn_network"
   ]
  },
  {
   "cell_type": "markdown",
   "id": "b36c14e3-5a85-43eb-a4fc-274237cfb928",
   "metadata": {},
   "source": [
    "* Each ElementaryReactionStep object includes parameters need for kinetic model"
   ]
  },
  {
   "cell_type": "code",
   "execution_count": 4,
   "id": "bb3fded6-60d5-4a46-a4f5-aca5a8cafbd4",
   "metadata": {},
   "outputs": [
    {
     "data": {
      "text/plain": [
       "<mkm.elementary_reaction_step.ElementaryReactionStep at 0x7fc34c537670>"
      ]
     },
     "execution_count": 4,
     "metadata": {},
     "output_type": "execute_result"
    }
   ],
   "source": [
    "rxn_network[\"r1\"]"
   ]
  },
  {
   "cell_type": "code",
   "execution_count": 5,
   "id": "b7a38a1e-2b89-46fa-adcf-0e5839057281",
   "metadata": {},
   "outputs": [
    {
     "data": {
      "text/plain": [
       "['label',\n",
       " 'reaction_eqn',\n",
       " 'temperature_range',\n",
       " 'bag_of_energies',\n",
       " 'is_adsorption',\n",
       " 'adsorption_params',\n",
       " 'adsorption_theory',\n",
       " 'erxn',\n",
       " 'ea_for',\n",
       " 'ea_rev',\n",
       " 'grxn',\n",
       " 'ga_for',\n",
       " 'ga_rev',\n",
       " 'k_for',\n",
       " 'k_rev',\n",
       " 'equilibrium_const']"
      ]
     },
     "execution_count": 5,
     "metadata": {},
     "output_type": "execute_result"
    }
   ],
   "source": [
    "# attributes of ElementaryReactionStep\n",
    "rxn_network[\"r1\"].__dir__()"
   ]
  },
  {
   "cell_type": "code",
   "execution_count": 6,
   "id": "dd475714-2da2-48bd-9c55-e8f6c79754f8",
   "metadata": {},
   "outputs": [
    {
     "data": {
      "text/plain": [
       "'H2_g + * -> I000*'"
      ]
     },
     "execution_count": 6,
     "metadata": {},
     "output_type": "execute_result"
    }
   ],
   "source": [
    "rxn_network[\"r1\"].reaction_eqn"
   ]
  },
  {
   "cell_type": "code",
   "execution_count": 7,
   "id": "98fe6f29-b0c2-428c-a871-ad14c2008e4b",
   "metadata": {},
   "outputs": [
    {
     "data": {
      "text/plain": [
       "0.2907720555422202"
      ]
     },
     "execution_count": 7,
     "metadata": {},
     "output_type": "execute_result"
    }
   ],
   "source": [
    "rxn_network[\"r1\"].erxn"
   ]
  },
  {
   "cell_type": "markdown",
   "id": "6867218d-e81f-4722-a25b-6084bd113a89",
   "metadata": {},
   "source": [
    "* **In this case, the rate constant has calculated by collision theory** \\\n",
    "**Therefore, DFT data of r1 transition state is missing, thus ea_for/ea_rev/ga_for/ga_rev are None**"
   ]
  },
  {
   "cell_type": "code",
   "execution_count": 8,
   "id": "63ac2e28-cd2c-460c-a32c-e818bf6bce66",
   "metadata": {},
   "outputs": [
    {
     "data": {
      "text/plain": [
       "True"
      ]
     },
     "execution_count": 8,
     "metadata": {},
     "output_type": "execute_result"
    }
   ],
   "source": [
    "rxn_network[\"r1\"].is_adsorption"
   ]
  },
  {
   "cell_type": "code",
   "execution_count": 9,
   "id": "2b32ad3b-58f6-4837-9f22-fa61257378ac",
   "metadata": {},
   "outputs": [
    {
     "data": {
      "text/plain": [
       "'collision_theory'"
      ]
     },
     "execution_count": 9,
     "metadata": {},
     "output_type": "execute_result"
    }
   ],
   "source": [
    "rxn_network[\"r1\"].adsorption_theory"
   ]
  },
  {
   "cell_type": "code",
   "execution_count": 10,
   "id": "fe2c5f59-d342-47c1-8314-bdba7d04ff8a",
   "metadata": {},
   "outputs": [],
   "source": [
    "rxn_network[\"r1\"].ga_for"
   ]
  },
  {
   "cell_type": "markdown",
   "id": "4c0ca03a-043e-49ee-bfa2-f21c0b91fe2e",
   "metadata": {},
   "source": [
    "* **As temperature is a factor for grxn/ga_for/k_for/k_rev/equilibrium_const, values of these attributes are** \\\n",
    "**in dictionary format of {temperature1: values, temperature2: values}** "
   ]
  },
  {
   "cell_type": "code",
   "execution_count": 11,
   "id": "0176e771-5446-41f3-ace6-17a6062c08fd",
   "metadata": {},
   "outputs": [
    {
     "data": {
      "text/plain": [
       "{'573.15': 40429630.183839925}"
      ]
     },
     "execution_count": 11,
     "metadata": {},
     "output_type": "execute_result"
    }
   ],
   "source": [
    "rxn_network[\"r1\"].k_for"
   ]
  },
  {
   "cell_type": "code",
   "execution_count": 12,
   "id": "b73cd289-1783-4753-aa7a-ad9a9b547d1b",
   "metadata": {},
   "outputs": [
    {
     "data": {
      "text/plain": [
       "{'573.15': 0.0075877217202547365}"
      ]
     },
     "execution_count": 12,
     "metadata": {},
     "output_type": "execute_result"
    }
   ],
   "source": [
    "rxn_network[\"r1\"].equilibrium_const"
   ]
  },
  {
   "cell_type": "markdown",
   "id": "8455df91-aeee-488b-b4a9-243e3daf5d53",
   "metadata": {},
   "source": [
    "* **You can modify the value for your experiment**"
   ]
  },
  {
   "cell_type": "code",
   "execution_count": 13,
   "id": "f2de5eaa-fc99-4a58-ac36-c77a31025ad2",
   "metadata": {},
   "outputs": [
    {
     "data": {
      "text/plain": [
       "1"
      ]
     },
     "execution_count": 13,
     "metadata": {},
     "output_type": "execute_result"
    }
   ],
   "source": [
    "rxn_network[\"r1\"].equilibrium_const = 1\n",
    "rxn_network[\"r1\"].equilibrium_const"
   ]
  },
  {
   "cell_type": "markdown",
   "id": "3e6abbd7-df13-42fd-972f-bea4b39132bf",
   "metadata": {},
   "source": [
    "* **Also, you can manually add reaction step in the rxn_network abject when you don't have DFT output files but rate constanats information**"
   ]
  },
  {
   "cell_type": "code",
   "execution_count": 14,
   "id": "ce4aaaa8-582d-490f-83d0-824360da0ead",
   "metadata": {},
   "outputs": [],
   "source": [
    "from mkm.elementary_reaction_step import ElementaryReactionStep\n",
    "\n",
    "rxn_network.update({'r22': ElementaryReactionStep})\n",
    "rxn_network['r22'].label = 'r22'\n",
    "rxn_network['r22'].reaction_eqn = 'H2O_g + * -> h2o*'\n",
    "rxn_network['r22'].is_adsorption = True\n",
    "rxn_network['r22'].k_for = 5e3\n",
    "rxn_network['r22'].equilibrium_const = 1e-3"
   ]
  },
  {
   "cell_type": "code",
   "execution_count": 15,
   "id": "cf04499c-1434-4258-8eb3-1690bd4ffb8d",
   "metadata": {},
   "outputs": [
    {
     "data": {
      "text/plain": [
       "mappingproxy({'__module__': 'mkm.elementary_reaction_step',\n",
       "              '__init__': <function mkm.elementary_reaction_step.ElementaryReactionStep.__init__(self, label: str = None, reaction_eqn: str = None, adsorption: dict = None, bag_of_energies: dict = None)>,\n",
       "              '__dir__': <function mkm.elementary_reaction_step.ElementaryReactionStep.__dir__(self)>,\n",
       "              'temperature_range': <property at 0x7fc364639680>,\n",
       "              'bag_of_energies': <property at 0x7fc3646396d0>,\n",
       "              'is_adsorption': True,\n",
       "              'adsorption_params': <property at 0x7fc364644090>,\n",
       "              'adsorption_theory': <property at 0x7fc3646444a0>,\n",
       "              'erxn': <property at 0x7fc34d29e7c0>,\n",
       "              'ea_for': <property at 0x7fc34d29e900>,\n",
       "              'ea_rev': <property at 0x7fc3646443b0>,\n",
       "              'grxn': <property at 0x7fc34d29e9f0>,\n",
       "              'ga_for': <property at 0x7fc34d29eb80>,\n",
       "              'ga_rev': <property at 0x7fc34d29e630>,\n",
       "              'k_for': 5000.0,\n",
       "              'k_rev': <property at 0x7fc34d29e5e0>,\n",
       "              'equilibrium_const': 0.001,\n",
       "              '__dict__': <attribute '__dict__' of 'ElementaryReactionStep' objects>,\n",
       "              '__weakref__': <attribute '__weakref__' of 'ElementaryReactionStep' objects>,\n",
       "              '__doc__': None,\n",
       "              'label': 'r22',\n",
       "              'reaction_eqn': 'H2O_g + * -> h2o*'})"
      ]
     },
     "execution_count": 15,
     "metadata": {},
     "output_type": "execute_result"
    }
   ],
   "source": [
    "rxn_network['r22'].__dict__"
   ]
  },
  {
   "cell_type": "code",
   "execution_count": null,
   "id": "56ea1f4d-f62d-46fe-a355-3580f1b81f86",
   "metadata": {},
   "outputs": [],
   "source": []
  }
 ],
 "metadata": {
  "kernelspec": {
   "display_name": "Python 3 (ipykernel)",
   "language": "python",
   "name": "python3"
  },
  "language_info": {
   "codemirror_mode": {
    "name": "ipython",
    "version": 3
   },
   "file_extension": ".py",
   "mimetype": "text/x-python",
   "name": "python",
   "nbconvert_exporter": "python",
   "pygments_lexer": "ipython3",
   "version": "3.9.16"
  }
 },
 "nbformat": 4,
 "nbformat_minor": 5
}
