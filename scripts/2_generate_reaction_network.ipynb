{
 "cells": [
  {
   "cell_type": "markdown",
   "id": "e859ff82-609e-48f4-957b-54282660ff89",
   "metadata": {},
   "source": [
    "# **Generate reaction network**\n",
    "* **All the energy and parameters for microkinetic modeling is save as ElementaryReactionStep object**"
   ]
  },
  {
   "cell_type": "code",
   "execution_count": 1,
   "id": "63d4037d-673e-4288-812c-68659ad2e5c1",
   "metadata": {},
   "outputs": [],
   "source": [
    "import mkm\n",
    "from mkm.reaction_network import ReactionNetworkGenerator\n",
    "import yaml\n",
    "import json\n",
    "\n",
    "# load config file including elementary reaction steps information\n",
    "yaml_file = f\"{mkm.EXAMPLE}/config.yml\"\n",
    "with open(yaml_file) as f:\n",
    "    config = yaml.safe_load(f)\n",
    "\n",
    "# load json file of \"bag of energies\" which you can generate by mkm.bag_of_energies.BagofEnergiesGen\n",
    "json_file = f\"{mkm.EXAMPLE}/info_bag.json\"\n",
    "with open(json_file) as f:\n",
    "    bag_of_energies = json.load(f)"
   ]
  },
  {
   "cell_type": "markdown",
   "id": "1b2d482f-757d-4e23-925a-06ec07d70e91",
   "metadata": {},
   "source": [
    "* **Now Let's generate reaction network**"
   ]
  },
  {
   "cell_type": "code",
   "execution_count": 2,
   "id": "48817816-d3cf-4079-bccd-7becedd15880",
   "metadata": {},
   "outputs": [],
   "source": [
    "# generate reaction network\n",
    "rn = ReactionNetworkGenerator(\n",
    "    config.get(\"rxn_eqn\", {}), \n",
    "    bag_of_energies,\n",
    "    config[\"adsorption\"],\n",
    "    )\n",
    "rxn_network = rn.convert_all()"
   ]
  },
  {
   "cell_type": "markdown",
   "id": "cfcb3aac-154a-4fe6-bde1-12a259a36d62",
   "metadata": {},
   "source": [
    "* **reaction network is returned as dictionary in {reaction label: ElementaryReactionStep object}** \\\n",
    "**reaction label follows the way you set in config.yml**"
   ]
  },
  {
   "cell_type": "code",
   "execution_count": 3,
   "id": "3d746bb7-8015-464a-8de6-134e347db349",
   "metadata": {},
   "outputs": [
    {
     "data": {
      "text/plain": [
       "{'r1': <mkm.elementary_reaction_step.ElementaryReactionStep at 0x7f3688559e20>,\n",
       " 'r2': <mkm.elementary_reaction_step.ElementaryReactionStep at 0x7f3688515070>,\n",
       " 'r3': <mkm.elementary_reaction_step.ElementaryReactionStep at 0x7f3689de7910>,\n",
       " 'r4': <mkm.elementary_reaction_step.ElementaryReactionStep at 0x7f3689de79d0>,\n",
       " 'r5': <mkm.elementary_reaction_step.ElementaryReactionStep at 0x7f3689de7790>,\n",
       " 'r6': <mkm.elementary_reaction_step.ElementaryReactionStep at 0x7f3689de7250>,\n",
       " 'r7': <mkm.elementary_reaction_step.ElementaryReactionStep at 0x7f3689de7b50>,\n",
       " 'r8': <mkm.elementary_reaction_step.ElementaryReactionStep at 0x7f3689de76d0>,\n",
       " 'r9': <mkm.elementary_reaction_step.ElementaryReactionStep at 0x7f3689de7a90>,\n",
       " 'r10': <mkm.elementary_reaction_step.ElementaryReactionStep at 0x7f3689de7c10>,\n",
       " 'r11': <mkm.elementary_reaction_step.ElementaryReactionStep at 0x7f3689de7310>,\n",
       " 'r12': <mkm.elementary_reaction_step.ElementaryReactionStep at 0x7f3689de7fa0>,\n",
       " 'r13': <mkm.elementary_reaction_step.ElementaryReactionStep at 0x7f3689de73d0>,\n",
       " 'r14': <mkm.elementary_reaction_step.ElementaryReactionStep at 0x7f3689de7850>,\n",
       " 'r15': <mkm.elementary_reaction_step.ElementaryReactionStep at 0x7f3680252280>,\n",
       " 'r16': <mkm.elementary_reaction_step.ElementaryReactionStep at 0x7f3680252190>,\n",
       " 'r17': <mkm.elementary_reaction_step.ElementaryReactionStep at 0x7f36802521c0>,\n",
       " 'r18': <mkm.elementary_reaction_step.ElementaryReactionStep at 0x7f3680252070>,\n",
       " 'r19': <mkm.elementary_reaction_step.ElementaryReactionStep at 0x7f36802520a0>,\n",
       " 'r20': <mkm.elementary_reaction_step.ElementaryReactionStep at 0x7f3680252250>,\n",
       " 'r21': <mkm.elementary_reaction_step.ElementaryReactionStep at 0x7f3680252040>}"
      ]
     },
     "execution_count": 3,
     "metadata": {},
     "output_type": "execute_result"
    }
   ],
   "source": [
    "rxn_network"
   ]
  },
  {
   "cell_type": "markdown",
   "id": "b36c14e3-5a85-43eb-a4fc-274237cfb928",
   "metadata": {},
   "source": [
    "* Each ElementaryReactionStep object includes parameters need for kinetic model"
   ]
  },
  {
   "cell_type": "code",
   "execution_count": 4,
   "id": "bb3fded6-60d5-4a46-a4f5-aca5a8cafbd4",
   "metadata": {},
   "outputs": [
    {
     "data": {
      "text/plain": [
       "<mkm.elementary_reaction_step.ElementaryReactionStep at 0x7f3688559e20>"
      ]
     },
     "execution_count": 4,
     "metadata": {},
     "output_type": "execute_result"
    }
   ],
   "source": [
    "rxn_network[\"r1\"]"
   ]
  },
  {
   "cell_type": "code",
   "execution_count": 5,
   "id": "b7a38a1e-2b89-46fa-adcf-0e5839057281",
   "metadata": {},
   "outputs": [
    {
     "data": {
      "text/plain": [
       "['label',\n",
       " 'reaction_eqn',\n",
       " 'adsorption_params',\n",
       " 'bag_of_energies',\n",
       " 'is_adsorption',\n",
       " 'adsorption_theory',\n",
       " 'erxn',\n",
       " 'ea_for',\n",
       " 'ea_rev',\n",
       " 'grxn',\n",
       " 'ga_for',\n",
       " 'ga_rev',\n",
       " 'k_for',\n",
       " 'k_rev',\n",
       " 'equilibrium_const']"
      ]
     },
     "execution_count": 5,
     "metadata": {},
     "output_type": "execute_result"
    }
   ],
   "source": [
    "# attributes of ElementaryReactionStep\n",
    "rxn_network[\"r1\"].__dir__()"
   ]
  },
  {
   "cell_type": "code",
   "execution_count": 6,
   "id": "98fe6f29-b0c2-428c-a871-ad14c2008e4b",
   "metadata": {},
   "outputs": [
    {
     "data": {
      "text/plain": [
       "0.2907720555422202"
      ]
     },
     "execution_count": 6,
     "metadata": {},
     "output_type": "execute_result"
    }
   ],
   "source": [
    "rxn_network[\"r1\"].erxn"
   ]
  },
  {
   "cell_type": "markdown",
   "id": "6867218d-e81f-4722-a25b-6084bd113a89",
   "metadata": {},
   "source": [
    "* **In this case, the rate constant has calculated by collision theory** \\\n",
    "**Therefore, DFT data of r1 transition state is missing, thus ea_for/ea_rev/ga_for/ga_rev are None**"
   ]
  },
  {
   "cell_type": "code",
   "execution_count": 7,
   "id": "63ac2e28-cd2c-460c-a32c-e818bf6bce66",
   "metadata": {},
   "outputs": [
    {
     "data": {
      "text/plain": [
       "True"
      ]
     },
     "execution_count": 7,
     "metadata": {},
     "output_type": "execute_result"
    }
   ],
   "source": [
    "rxn_network[\"r1\"].is_adsorption"
   ]
  },
  {
   "cell_type": "code",
   "execution_count": 8,
   "id": "2b32ad3b-58f6-4837-9f22-fa61257378ac",
   "metadata": {},
   "outputs": [
    {
     "data": {
      "text/plain": [
       "'collision_theory'"
      ]
     },
     "execution_count": 8,
     "metadata": {},
     "output_type": "execute_result"
    }
   ],
   "source": [
    "rxn_network[\"r1\"].adsorption_theory"
   ]
  },
  {
   "cell_type": "code",
   "execution_count": 9,
   "id": "fe2c5f59-d342-47c1-8314-bdba7d04ff8a",
   "metadata": {},
   "outputs": [],
   "source": [
    "rxn_network[\"r1\"].ga_for"
   ]
  },
  {
   "cell_type": "markdown",
   "id": "4c0ca03a-043e-49ee-bfa2-f21c0b91fe2e",
   "metadata": {},
   "source": [
    "* **As temperature is a factor for grxn/ga_for/k_for/k_rev/equilibrium_const, values of these attributes are** \\\n",
    "**in dictionary format of {temperature1: values, temperature2: values}** "
   ]
  },
  {
   "cell_type": "code",
   "execution_count": 10,
   "id": "0176e771-5446-41f3-ace6-17a6062c08fd",
   "metadata": {},
   "outputs": [
    {
     "data": {
      "text/plain": [
       "{'573.15': 40429630.183839925}"
      ]
     },
     "execution_count": 10,
     "metadata": {},
     "output_type": "execute_result"
    }
   ],
   "source": [
    "rxn_network[\"r1\"].k_for"
   ]
  }
 ],
 "metadata": {
  "kernelspec": {
   "display_name": "Python 3 (ipykernel)",
   "language": "python",
   "name": "python3"
  },
  "language_info": {
   "codemirror_mode": {
    "name": "ipython",
    "version": 3
   },
   "file_extension": ".py",
   "mimetype": "text/x-python",
   "name": "python",
   "nbconvert_exporter": "python",
   "pygments_lexer": "ipython3",
   "version": "3.9.16"
  }
 },
 "nbformat": 4,
 "nbformat_minor": 5
}
